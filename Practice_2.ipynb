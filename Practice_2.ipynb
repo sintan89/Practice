{
  "nbformat": 4,
  "nbformat_minor": 0,
  "metadata": {
    "colab": {
      "name": "Practice_2.ipynb",
      "provenance": [],
      "authorship_tag": "ABX9TyN83fg0WHr52+KZuoUlfcUJ",
      "include_colab_link": true
    },
    "kernelspec": {
      "name": "python3",
      "display_name": "Python 3"
    },
    "language_info": {
      "name": "python"
    }
  },
  "cells": [
    {
      "cell_type": "markdown",
      "metadata": {
        "id": "view-in-github",
        "colab_type": "text"
      },
      "source": [
        "<a href=\"https://colab.research.google.com/github/sintan89/Practice/blob/main/Practice_2.ipynb\" target=\"_parent\"><img src=\"https://colab.research.google.com/assets/colab-badge.svg\" alt=\"Open In Colab\"/></a>"
      ]
    },
    {
      "cell_type": "code",
      "execution_count": 13,
      "metadata": {
        "colab": {
          "base_uri": "https://localhost:8080/"
        },
        "id": "zHMAQyqNuwjd",
        "outputId": "3bc2c790-922a-4720-d11a-720d802e0d0e"
      },
      "outputs": [
        {
          "output_type": "stream",
          "name": "stdout",
          "text": [
            "   CustomerID   Genre  Age  Annual Income (k$)  Spending Score (1-100)\n",
            "0           1    Male   19                  15                      39\n",
            "1           2    Male   21                  15                      81\n",
            "2           3  Female   20                  16                       6\n",
            "3           4  Female   23                  16                      77\n",
            "4           5  Female   31                  17                      40\n",
            "0      19\n",
            "1      21\n",
            "2      20\n",
            "3      23\n",
            "4      31\n",
            "       ..\n",
            "195    35\n",
            "196    45\n",
            "197    32\n",
            "198    32\n",
            "199    30\n",
            "Name: Age, Length: 200, dtype: int64\n",
            "CustomerID                     6\n",
            "Genre                     Female\n",
            "Age                           22\n",
            "Annual Income (k$)            17\n",
            "Spending Score (1-100)        76\n",
            "Name: 5, dtype: object\n",
            "21\n",
            "Menampilkan data ke 3 sampai kurang dari 10 dalam satu baris :\n",
            "   CustomerID   Genre  Age  Annual Income (k$)  Spending Score (1-100)\n",
            "3           4  Female   23                  16                      77\n",
            "4           5  Female   31                  17                      40\n",
            "5           6  Female   22                  17                      76\n",
            "6           7  Female   35                  18                       6\n",
            "7           8  Female   23                  18                      94\n",
            "8           9    Male   64                  19                       3\n",
            "9          10  Female   30                  19                      72\n",
            "       CustomerID         Age  Annual Income (k$)  Spending Score (1-100)\n",
            "count  200.000000  200.000000          200.000000              200.000000\n",
            "mean   100.500000   38.850000           60.560000               50.200000\n",
            "std     57.879185   13.969007           26.264721               25.823522\n",
            "min      1.000000   18.000000           15.000000                1.000000\n",
            "25%     50.750000   28.750000           41.500000               34.750000\n",
            "50%    100.500000   36.000000           61.500000               50.000000\n",
            "75%    150.250000   49.000000           78.000000               73.000000\n",
            "max    200.000000   70.000000          137.000000               99.000000\n"
          ]
        }
      ],
      "source": [
        "import pandas as pd\n",
        "csv_data = pd.read_csv(\"https://storage.googleapis.com/dqlab-dataset/shopping_data.csv\")\n",
        "\n",
        "#Untuk menampilkan data\n",
        "print(csv_data.head())\n",
        "\n",
        "#Untuk melakukan akses data kolom\n",
        "print(csv_data['Age'])\n",
        "\n",
        "#Untuk manampilkan data dari suatu baris\n",
        "print(csv_data.iloc[5])\n",
        "\n",
        "#Untuk menampilkan suatu data dari baris dan kolom tertentu\n",
        "print(csv_data['Age'].iloc[1])\n",
        "\n",
        "#Untuk menampilkan data dalam range tertentu\n",
        "print(\"Menampilkan data ke 3 sampai kurang dari 10 dalam satu baris :\")\n",
        "print(csv_data.iloc[3:10])\n",
        "\n",
        "#Fungsi describe() digunakan untuk mengetahui informasi statistik dataset secara cepat, ['O'] mengabaikan data non numerical\n",
        "print(csv_data.describe(exclude=['O']))"
      ]
    }
  ]
}