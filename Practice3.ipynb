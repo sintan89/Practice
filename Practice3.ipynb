{
  "nbformat": 4,
  "nbformat_minor": 0,
  "metadata": {
    "colab": {
      "name": "Practice3.ipynb",
      "provenance": [],
      "toc_visible": true,
      "authorship_tag": "ABX9TyP3O669OguGBnQYtCeGeKYR",
      "include_colab_link": true
    },
    "kernelspec": {
      "name": "python3",
      "display_name": "Python 3"
    },
    "language_info": {
      "name": "python"
    }
  },
  "cells": [
    {
      "cell_type": "markdown",
      "metadata": {
        "id": "view-in-github",
        "colab_type": "text"
      },
      "source": [
        "<a href=\"https://colab.research.google.com/github/sintan89/Practice/blob/main/Practice3.ipynb\" target=\"_parent\"><img src=\"https://colab.research.google.com/assets/colab-badge.svg\" alt=\"Open In Colab\"/></a>"
      ]
    },
    {
      "cell_type": "code",
      "execution_count": 8,
      "metadata": {
        "colab": {
          "base_uri": "https://localhost:8080/"
        },
        "id": "iUbgnRHd4G1r",
        "outputId": "1ad52214-f676-4ad7-b1ff-7554be49fbee"
      },
      "outputs": [
        {
          "output_type": "stream",
          "name": "stdout",
          "text": [
            "True\n",
            "CustomerID                100.500000\n",
            "Age                        38.939698\n",
            "Annual Income (k$)         61.005051\n",
            "Spending Score (1-100)     50.489899\n",
            "dtype: float64\n",
            "Data yang masih terdapat nilai kosong ! :\n",
            "   CustomerID   Genre   Age  Annual Income (k$)  Spending Score (1-100)\n",
            "0           1    Male  19.0                15.0                    39.0\n",
            "1           2    Male   NaN                15.0                    81.0\n",
            "2           3  Female  20.0                 NaN                     6.0\n",
            "3           4  Female  23.0                16.0                    77.0\n",
            "4           5  Female  31.0                17.0                     NaN\n",
            "5           6  Female  22.0                 NaN                    76.0\n",
            "6           7  Female  35.0                18.0                     6.0\n",
            "7           8  Female  23.0                18.0                    94.0\n",
            "8           9    Male  64.0                19.0                     NaN\n",
            "9          10  Female  30.0                19.0                    72.0\n",
            "Dataset yang sudah diproses Handling Missing Values dengan Mean :\n",
            "     CustomerID   Genre        Age  Annual Income (k$)  Spending Score (1-100)\n",
            "0             1    Male  19.000000           15.000000               39.000000\n",
            "1             2    Male  38.939698           15.000000               81.000000\n",
            "2             3  Female  20.000000           61.005051                6.000000\n",
            "3             4  Female  23.000000           16.000000               77.000000\n",
            "4             5  Female  31.000000           17.000000               50.489899\n",
            "..          ...     ...        ...                 ...                     ...\n",
            "195         196  Female  35.000000          120.000000               79.000000\n",
            "196         197  Female  45.000000          126.000000               28.000000\n",
            "197         198    Male  32.000000          126.000000               74.000000\n",
            "198         199    Male  32.000000          137.000000               18.000000\n",
            "199         200    Male  30.000000          137.000000               83.000000\n",
            "\n",
            "[200 rows x 5 columns]\n"
          ]
        }
      ],
      "source": [
        "import pandas as pd\n",
        "import numpy as np\n",
        "from sklearn import preprocessing\n",
        "csv_data = pd.read_csv(\"https://storage.googleapis.com/dqlab-dataset/shopping_data_missingvalue.csv\")\n",
        "\n",
        "#Handling missing values\n",
        "print(csv_data.isnull().values.any())\n",
        "print(csv_data.mean())\n",
        "print(\"Data yang masih terdapat nilai kosong ! :\")\n",
        "print(csv_data.head(10))\n",
        "print(\"Dataset yang sudah diproses Handling Missing Values dengan Mean :\")\n",
        "print(csv_data.fillna(csv_data.mean()))\n",
        "dataset=pd.DataFrame({'Customer ID':array[:,0],'Gender':array[:,1],'Age':array[:,2],'Income':array[:,3],'Spending Score':array[:,4]})\n",
        "\n",
        "\n"
      ]
    }
  ]
}