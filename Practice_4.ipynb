{
  "nbformat": 4,
  "nbformat_minor": 0,
  "metadata": {
    "colab": {
      "name": "Practice_4",
      "provenance": [],
      "toc_visible": true,
      "authorship_tag": "ABX9TyMuqulBuBUjsSQ+D7OxEDFX",
      "include_colab_link": true
    },
    "kernelspec": {
      "name": "python3",
      "display_name": "Python 3"
    },
    "language_info": {
      "name": "python"
    }
  },
  "cells": [
    {
      "cell_type": "markdown",
      "metadata": {
        "id": "view-in-github",
        "colab_type": "text"
      },
      "source": [
        "<a href=\"https://colab.research.google.com/github/sintan89/Practice/blob/main/Practice_4.ipynb\" target=\"_parent\"><img src=\"https://colab.research.google.com/assets/colab-badge.svg\" alt=\"Open In Colab\"/></a>"
      ]
    },
    {
      "cell_type": "code",
      "execution_count": 28,
      "metadata": {
        "colab": {
          "base_uri": "https://localhost:8080/"
        },
        "id": "vmZlelL3rcax",
        "outputId": "01aec2d2-9590-4636-e09c-4d4309677538"
      },
      "outputs": [
        {
          "output_type": "stream",
          "name": "stdout",
          "text": [
            "x habis dibagi 2\n",
            "x tidak habis dibagi 2, 4 ataupun 5\n",
            "Siang \n",
            "\n",
            "Tagihan kepada :\n",
            "Mr. Yoyo\n",
            "Selamat siang, anda harus membayar tagihan sebesar\n",
            "85000000\n",
            "750000\n"
          ]
        }
      ],
      "source": [
        "#Statement if\n",
        "x = 6\n",
        "if x % 2 == 0 :\n",
        "  print(\"x habis dibagi 2\")\n",
        "\n",
        "#Statement if...elif...else\n",
        "x = 7\n",
        "if x % 3 == 0 :\n",
        "  print(\"x habis dibagi 3\")\n",
        "elif x % 5 == 0 :\n",
        "  print(\"x habis dibagi 5\")\n",
        "elif x % 4 == 0 :\n",
        "  print(\"x habis dibagi 4\")\n",
        "else :\n",
        "  print(\"x tidak habis dibagi 2, 4 ataupun 5\")\n",
        "jam = 14\n",
        "if jam>=7 and jam<12 :\n",
        "  print(\"Pagi\")\n",
        "elif jam >=12 and jam<17 :\n",
        "  print(\"Siang \\n\")\n",
        "elif jam>=17 and jam<19 :\n",
        "  print(\"Sore\")\n",
        "else :\n",
        "  print(\"Malam\")\n",
        "\n",
        "tagihan_ke = 'Mr. Yoyo'\n",
        "warehousing = { 'harga_harian': 1000000, 'total_hari':15 } \n",
        "cleansing = { 'harga_harian': 1500000, 'total_hari':10 } \n",
        "integration = { 'harga_harian':2000000, 'total_hari':15 } \n",
        "transform = { 'harga_harian':2500000, 'total_hari':10 }\n",
        "sub_warehousing = warehousing['harga_harian'] * warehousing['total_hari']\n",
        "sub_cleansing = cleansing['harga_harian'] * cleansing['total_hari']\n",
        "sub_integration = integration['harga_harian'] * integration['total_hari']\n",
        "sub_transform = transform['harga_harian'] * transform['total_hari']\n",
        "total_harga = sub_warehousing + sub_cleansing + sub_integration + sub_transform\n",
        "print(\"Tagihan kepada :\")\n",
        "print(tagihan_ke)\n",
        "jam = 14\n",
        "if jam>=7 and jam<12 :\n",
        "  print(\"Selamat Pagi, anda harus membayar tagihan sebesar\")\n",
        "elif jam >=12 and jam<17 :\n",
        "  print(\"Selamat siang, anda harus membayar tagihan sebesar\")\n",
        "elif jam>=17 and jam<19 :\n",
        "  print(\"Selamat sore, anda harus membayar tagihan sebesar\")\n",
        "else :\n",
        "  print(\"Selamat malam, anda harus membayar tagihan sebesar\")\n",
        "print(total_harga)\n",
        "\n",
        "#While loops\n",
        "tagihan = [50000, 75000, 125000, 300000, 200000]\n",
        "i = 0\n",
        "total_tagihan = 0\n",
        "while i < len(tagihan) :\n",
        "  total_tagihan += tagihan[i]\n",
        "  i += 1\n",
        "print(total_tagihan)\n"
      ]
    }
  ]
}